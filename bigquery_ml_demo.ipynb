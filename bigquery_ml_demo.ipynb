{
 "cells": [
  {
   "cell_type": "markdown",
   "metadata": {},
   "source": [
    "## BigQuery ML Tutorial"
   ]
  },
  {
   "cell_type": "markdown",
   "metadata": {},
   "source": [
    "## 1 Ingest data into BigQuery \n",
    "Here, we use the natality dataset which is already available in BigQuery [here](https://bigquery.cloud.google.com/table/publicdata:samples.natality?tab=details)"
   ]
  },
  {
   "cell_type": "markdown",
   "metadata": {},
   "source": [
    "## 2 Explore the data"
   ]
  },
  {
   "cell_type": "code",
   "execution_count": null,
   "metadata": {},
   "outputs": [],
   "source": [
    "SELECT\n",
    "  *\n",
    "FROM\n",
    "  publicdata.samples.natality\n",
    "WHERE\n",
    "  year > 1998\n",
    "  AND plurality > 0\n",
    "  AND mother_age > 0\n",
    "  AND gestation_weeks > 0\n",
    "  AND weight_pounds > 0\n",
    "  AND weight_gain_pounds > 0\n",
    "LIMIT 15"
   ]
  },
  {
   "cell_type": "markdown",
   "metadata": {},
   "source": [
    "## 3 Define and engineer the features"
   ]
  },
  {
   "cell_type": "code",
   "execution_count": null,
   "metadata": {},
   "outputs": [],
   "source": [
    "SELECT\n",
    "  weight_pounds, -- target of prediction (label)\n",
    "  CAST(is_male AS STRING) AS is_male,\n",
    "  CAST(plurality AS STRING) AS plurality,\n",
    "  mother_age,\n",
    "  gestation_weeks,\n",
    "  weight_gain_pounds,\n",
    "  ABS(FARM_FINGERPRINT(CONCAT(CAST(YEAR AS STRING), CAST(month AS STRING)))) AS hashmonth\n",
    "FROM\n",
    "  publicdata.samples.natality\n",
    "WHERE\n",
    "  year > 1998\n",
    "  AND plurality > 0\n",
    "  AND mother_age > 0\n",
    "  AND gestation_weeks > 0\n",
    "  AND weight_pounds > 0\n",
    "  AND weight_gain_pounds > 0\n",
    "LIMIT 15 "
   ]
  },
  {
   "cell_type": "markdown",
   "metadata": {},
   "source": [
    "## 4 Build and train the model"
   ]
  },
  {
   "cell_type": "code",
   "execution_count": null,
   "metadata": {},
   "outputs": [],
   "source": [
    "CREATE MODEL BigQDemo.NewBornWeight_Model\n",
    "OPTIONS\n",
    "  (model_type='linear_reg', labels=['weight_pounds']) AS\n",
    "  \n",
    "WITH natality_dset AS -- code from previous step\n",
    "(\n",
    "SELECT\n",
    "  weight_pounds,\n",
    "  CAST(is_male AS STRING) AS is_male,\n",
    "  CAST(plurality AS STRING) AS plurality,\n",
    "  mother_age,\n",
    "  gestation_weeks,\n",
    "  weight_gain_pounds,\n",
    "  ABS(FARM_FINGERPRINT(CONCAT(CAST(YEAR AS STRING), CAST(month AS STRING)))) AS hashmonth\n",
    "FROM\n",
    "  publicdata.samples.natality\n",
    "WHERE\n",
    "  year > 1998\n",
    "  AND plurality > 0\n",
    "  AND mother_age > 0\n",
    "  AND gestation_weeks > 0\n",
    "  AND weight_pounds > 0\n",
    "  AND weight_gain_pounds > 0\n",
    ")\n",
    "SELECT\n",
    "    weight_pounds,\n",
    "    is_male,\n",
    "    plurality,\n",
    "    mother_age,\n",
    "    gestation_weeks,\n",
    "    weight_gain_pounds\n",
    "FROM\n",
    "    natality_dset\n",
    "WHERE\n",
    "  MOD(hashmonth, 5) < 4  -- taking 80% of the data as training data "
   ]
  },
  {
   "cell_type": "markdown",
   "metadata": {},
   "source": [
    "## 5 Evaluate the trained model"
   ]
  },
  {
   "cell_type": "code",
   "execution_count": null,
   "metadata": {},
   "outputs": [],
   "source": [
    "SELECT \n",
    "  *\n",
    "FROM\n",
    "  ml.EVALUATE(MODEL BigQDemo.NewBornWeight_Model,\n",
    "  (\n",
    "  SELECT\n",
    "    weight_pounds,\n",
    "    CAST(is_male AS STRING) AS is_male,\n",
    "    CAST(plurality AS STRING) AS plurality,\n",
    "    mother_age,\n",
    "    gestation_weeks,\n",
    "    weight_gain_pounds\n",
    "  FROM\n",
    "    publicdata.samples.natality\n",
    "  WHERE\n",
    "    year > 1998\n",
    "    AND plurality > 0\n",
    "    AND mother_age > 0\n",
    "    AND gestation_weeks > 0\n",
    "    AND weight_pounds > 0\n",
    "    AND weight_gain_pounds > 0\n",
    "    AND MOD (ABS(FARM_FINGERPRINT(CONCAT(CAST(YEAR AS STRING), CAST(month AS STRING)))),5) >= 4\n",
    "    \n",
    "    ))"
   ]
  },
  {
   "cell_type": "markdown",
   "metadata": {},
   "source": [
    "## 6 Predict with the model"
   ]
  },
  {
   "cell_type": "code",
   "execution_count": null,
   "metadata": {},
   "outputs": [],
   "source": [
    "SELECT \n",
    "  *\n",
    "FROM\n",
    "  ml.PREDICT(MODEL BigQDemo.NewBornWeight_Model,\n",
    "  (\n",
    "  SELECT\n",
    "    weight_pounds,\n",
    "    CAST(is_male AS STRING) AS is_male,\n",
    "    CAST(plurality AS STRING) AS plurality,\n",
    "    mother_age,\n",
    "    gestation_weeks,\n",
    "    weight_gain_pounds\n",
    "  FROM\n",
    "    publicdata.samples.natality\n",
    "  WHERE\n",
    "    year > 1998\n",
    "    AND plurality > 0\n",
    "    AND mother_age > 0\n",
    "    AND gestation_weeks > 0\n",
    "    AND weight_pounds > 0\n",
    "    AND weight_gain_pounds > 0\n",
    "    ))\n",
    "LIMIT 50\n",
    " "
   ]
  }
 ],
 "metadata": {
  "kernelspec": {
   "display_name": "Python 3",
   "language": "python",
   "name": "python3"
  },
  "language_info": {
   "codemirror_mode": {
    "name": "ipython",
    "version": 3
   },
   "file_extension": ".py",
   "mimetype": "text/x-python",
   "name": "python",
   "nbconvert_exporter": "python",
   "pygments_lexer": "ipython3",
   "version": "3.7.1"
  },
  "toc": {
   "base_numbering": 1,
   "nav_menu": {},
   "number_sections": true,
   "sideBar": true,
   "skip_h1_title": false,
   "title_cell": "Table of Contents",
   "title_sidebar": "Contents",
   "toc_cell": false,
   "toc_position": {},
   "toc_section_display": true,
   "toc_window_display": false
  },
  "varInspector": {
   "cols": {
    "lenName": 16,
    "lenType": 16,
    "lenVar": 40
   },
   "kernels_config": {
    "python": {
     "delete_cmd_postfix": "",
     "delete_cmd_prefix": "del ",
     "library": "var_list.py",
     "varRefreshCmd": "print(var_dic_list())"
    },
    "r": {
     "delete_cmd_postfix": ") ",
     "delete_cmd_prefix": "rm(",
     "library": "var_list.r",
     "varRefreshCmd": "cat(var_dic_list()) "
    }
   },
   "types_to_exclude": [
    "module",
    "function",
    "builtin_function_or_method",
    "instance",
    "_Feature"
   ],
   "window_display": false
  }
 },
 "nbformat": 4,
 "nbformat_minor": 2
}
